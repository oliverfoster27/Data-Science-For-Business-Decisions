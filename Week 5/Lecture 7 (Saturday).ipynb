{
 "cells": [
  {
   "cell_type": "markdown",
   "metadata": {},
   "source": [
    "# Lecture 7 (Saturday)"
   ]
  },
  {
   "cell_type": "markdown",
   "metadata": {},
   "source": [
    "\"By Analysis\" Technique:\n",
    "   - I want to\n",
    "   - [Verb] such as see, report, compare, trend, plot, predict, score\n",
    "   - [Metric] such as sales, margin, etc...\n",
    "   - By\n",
    "   - [Dimension or dimensional attribute]"
   ]
  },
  {
   "cell_type": "markdown",
   "metadata": {},
   "source": [
    "What does an ETL tool do?\n",
    "   - (Extract, Transform, Load)\n",
    "   - ETL is short for extract, transform, load, three database functions that are combined into one tool to pull data out of one database and place it into another database. Extract is the process of reading data from a database. ... Transformation occurs by using rules or lookup tables or by combining the data with other data."
   ]
  },
  {
   "cell_type": "markdown",
   "metadata": {},
   "source": [
    "Watch out for confounding: https://en.wikipedia.org/wiki/Confounding\n",
    "- This can happen when the input features have strong causal relationships (not correlated)\n",
    "- Why avoid it?\n",
    "     - I can't figure that one out yet\n"
   ]
  },
  {
   "cell_type": "markdown",
   "metadata": {},
   "source": [
    "Lunch"
   ]
  },
  {
   "cell_type": "markdown",
   "metadata": {},
   "source": [
    "### Guest Lecture - AI Ethics with Abhishek Gupta\n",
    "#### Founder of Montreal AI Ethics Institute"
   ]
  },
  {
   "cell_type": "markdown",
   "metadata": {},
   "source": [
    "Reading: https://www.technologyreview.com/s/610192/were-in-a-diversity-crisis-black-in-ais-founder-on-whats-poisoning-the-algorithms-in-our/\n",
    "\n",
    "Diversity Crisis:\n",
    "- Researcher realized no black people represented in the analysis\n",
    "- Bring black people together to discuss diversity in AI\n",
    "- Bring diversity to the table"
   ]
  },
  {
   "cell_type": "markdown",
   "metadata": {},
   "source": [
    "Reading: http://approximatelycorrect.com/2016/11/07/the-foundations-of-algorithmic-bias/\n",
    "\n",
    "The Foundations of Algorithmic Bias:\n",
    "\n",
    "- What are algorithms, how they're developed\n",
    "- How can we be sure that the algorithmically curated news doesn’t have a political party bias or job listings don’t reflect a gender or racial bias?"
   ]
  },
  {
   "cell_type": "markdown",
   "metadata": {},
   "source": [
    "### Guest Lecture - Industry Perspective on Communications & Media Vertical\n",
    "#### Lecture by John Nikolopoulos"
   ]
  },
  {
   "cell_type": "markdown",
   "metadata": {},
   "source": [
    "3 Topics in lecture:\n",
    "- Storytelling\n",
    "- Disruption\n",
    "- Relevance"
   ]
  },
  {
   "cell_type": "markdown",
   "metadata": {},
   "source": [
    "Disruption:"
   ]
  },
  {
   "cell_type": "markdown",
   "metadata": {},
   "source": [
    "- What is the response to disruption\n",
    "    - Compete head on\n",
    "    - Take advantage of trend\n",
    "    - Pray it goes away\n",
    "- Book Reccomendation: \n",
    "    - Brain Rules\n",
    "    - Evolving Surveillance Capitalism"
   ]
  },
  {
   "cell_type": "markdown",
   "metadata": {},
   "source": [
    "What's coming in 5G?\n",
    "- Enhanced Mobile Broadband\n",
    "- Low Latency\n",
    "- Massive IoT Connectivity"
   ]
  },
  {
   "cell_type": "code",
   "execution_count": null,
   "metadata": {},
   "outputs": [],
   "source": []
  }
 ],
 "metadata": {
  "kernelspec": {
   "display_name": "Python 3",
   "language": "python",
   "name": "python3"
  },
  "language_info": {
   "codemirror_mode": {
    "name": "ipython",
    "version": 3
   },
   "file_extension": ".py",
   "mimetype": "text/x-python",
   "name": "python",
   "nbconvert_exporter": "python",
   "pygments_lexer": "ipython3",
   "version": "3.6.5"
  }
 },
 "nbformat": 4,
 "nbformat_minor": 2
}
