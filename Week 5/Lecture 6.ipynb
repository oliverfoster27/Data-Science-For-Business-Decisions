{
 "cells": [
  {
   "cell_type": "markdown",
   "metadata": {},
   "source": [
    "# Lecture 6"
   ]
  },
  {
   "cell_type": "markdown",
   "metadata": {},
   "source": [
    "Lecture by Nathanael Weill"
   ]
  },
  {
   "cell_type": "markdown",
   "metadata": {},
   "source": [
    "- Working for a startup\n",
    "- Linking datascience to business\n",
    "- Classification & Regression\n",
    "- As a data scientist - how to invest my time to get a better model?\n",
    "- Machine learning limits\n",
    "- Data Engineering: setting up databases and servers\n",
    "- www.kdnuggets.com"
   ]
  },
  {
   "cell_type": "markdown",
   "metadata": {},
   "source": [
    "    A Journey as a Data Scientist:"
   ]
  },
  {
   "cell_type": "markdown",
   "metadata": {},
   "source": [
    "- Define the valuable business problem\n",
    "- Translate the business problem to a KPI (key performance indicator)\n",
    "    - a measurable value that demonstrates how effectively a company is acheiving a business objective\n",
    "- Eg: I would like to minimize the # of machine failures\n",
    "- Need a POC\n",
    "    - Is it doable?\n",
    "- He hasn't even gotten to the perscriptive stage as a data scientist (see slides for chart)\n",
    "- Learning is tricky... Ask someone what defines a sandwich\n",
    "    - Is a burger a sandwich? why/why not?\n",
    "    - No clean-cut rule: this is/is-not a sandwich depends on how you grew up and learned what a sandwich is\n",
    "    - The very fact we have these discussions indicates that even humans have an issue interpreting their learning... it's no wonder machines have that problem too\n",
    "- Example for sampling issue:\n",
    "    - lets say you have a sample of 10 chairs and 1000 non-chairs\n",
    "    - You'll be very accurate saying it's a non-chair 100% of the time\n",
    "    - Instead what you should do is to cluster the data and sample the same number of points from each cluster\n",
    "        - this way the non-chairs would be sampled to an appropriate frequency to compliment the true-chairs\n",
    "- For journal: our compliance team may require us to use the decision tree to explain the decision in plain english... losing performance on the model but it passes this compliance limitation"
   ]
  },
  {
   "cell_type": "markdown",
   "metadata": {},
   "source": [
    "Break"
   ]
  },
  {
   "cell_type": "markdown",
   "metadata": {},
   "source": [
    "- He very clearly explained kernel choices in SVM. I had never been explained how (say) a squared kernel works\n",
    "- I can't believe he uses weka\n",
    "- Using Alteryx:\n",
    "    - Auto field tool turns data into what it thinks is the right format\n",
    "    - Resample tool: split train/test\n",
    "    - Regression tool\n",
    "- Lets say the customer is not happy with model performance\n",
    "    - start with re-cleaning the data\n",
    "        - examine outlier cases where the model predicts the value very poorly\n",
    "        - maybe these data points are bogus and should be filtered\n",
    "- 3 Main Fields of Datascience Markets:\n",
    "    - Image recognition\n",
    "    - NLP\n",
    "    - Time Series\n",
    "        - Probably has the most jobs\n",
    "- Look into \"leave one out\" training for PDFs\n",
    "    - Train a separate algo on each 11/12 PDFs each time leaving a different PDF out\n",
    "    - Combine the results of all algos for each feature"
   ]
  },
  {
   "cell_type": "code",
   "execution_count": null,
   "metadata": {},
   "outputs": [],
   "source": []
  },
  {
   "cell_type": "code",
   "execution_count": null,
   "metadata": {},
   "outputs": [],
   "source": []
  }
 ],
 "metadata": {
  "kernelspec": {
   "display_name": "Python 3",
   "language": "python",
   "name": "python3"
  },
  "language_info": {
   "codemirror_mode": {
    "name": "ipython",
    "version": 3
   },
   "file_extension": ".py",
   "mimetype": "text/x-python",
   "name": "python",
   "nbconvert_exporter": "python",
   "pygments_lexer": "ipython3",
   "version": "3.6.5"
  }
 },
 "nbformat": 4,
 "nbformat_minor": 2
}
