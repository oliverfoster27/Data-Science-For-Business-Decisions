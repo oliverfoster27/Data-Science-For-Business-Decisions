{
 "cells": [
  {
   "cell_type": "markdown",
   "metadata": {},
   "source": [
    "# Lecture 2"
   ]
  },
  {
   "cell_type": "markdown",
   "metadata": {},
   "source": [
    "Put your journal in! Figure out how to do this..."
   ]
  },
  {
   "cell_type": "markdown",
   "metadata": {},
   "source": [
    "Notes:"
   ]
  },
  {
   "cell_type": "markdown",
   "metadata": {},
   "source": [
    "- Book: Against the Dots\n",
    "- No model is perfect\n",
    "- Business Model Generation\n",
    "    - Write your business plan down... you need to communicate your ideas effectively and need to iron out the details\n",
    "- How to convince potential customers of model success that doesn't exist yet?\n",
    "    - Setup sprints with deadline of a phase 1 and 2... kick us out if you don't like results by that deadline\n",
    "    - Need to communicate value to execs/junior execs\n",
    "    - Can focus on how expensive their process is currently... stressing how bad it is for them right now...\n",
    "- Companies migrate their customers to other channels if they don't want to deal with them\n",
    "    - Not a large profit margin for dealing with them direct\n",
    "- Google the business model canvas\n",
    "\n",
    "Break\n",
    "\n",
    "- Osterwalder explaining the business model canvas\n",
    "    - Nespresso example\n",
    "    - Sell nespresso through retail channels to households\n",
    "    - one-time transactional sale\n",
    "        - most money goes to manufacturers\n",
    "    - retail through machines, pods through their channels\n",
    "    - made their own channels for pods... why?\n",
    "        - you need to buy pods once you have the machine\n",
    "        - you are forced now to go through their channels (direct) and reoccuring\n",
    "        - all revenues of direct reocurring is going right into their pockets\n",
    "    - they need patents on pods, good brand, production facilities for best pods/coffee\n",
    "    - Nespresso almost failed in 1987 with the same product/tech\n",
    "        - they tried in a joint venture with machine manufacturer to sell direct to office buildings\n",
    "        - business didn't want them\n",
    "    - In this case the difference between success and failure was not due to the product/tech\n",
    "    - This is a very similar thing to a lean canvus... but we didn't get it...\n",
    "- Do our own canvas: Netflix\n",
    "    - Look up Netflix 1million dollar question: can you improve on our current reccomendations & share with us\n",
    "        - Took 3 years for someone to win"
   ]
  },
  {
   "cell_type": "markdown",
   "metadata": {},
   "source": [
    "Check strategyzer acct for business model canvas for Netflix"
   ]
  },
  {
   "cell_type": "markdown",
   "metadata": {},
   "source": [
    "Check lecture 2 folder for my first attempt at an alteryx workflow"
   ]
  },
  {
   "cell_type": "code",
   "execution_count": null,
   "metadata": {},
   "outputs": [],
   "source": []
  }
 ],
 "metadata": {
  "kernelspec": {
   "display_name": "Python 3",
   "language": "python",
   "name": "python3"
  },
  "language_info": {
   "codemirror_mode": {
    "name": "ipython",
    "version": 3
   },
   "file_extension": ".py",
   "mimetype": "text/x-python",
   "name": "python",
   "nbconvert_exporter": "python",
   "pygments_lexer": "ipython3",
   "version": "3.6.5"
  }
 },
 "nbformat": 4,
 "nbformat_minor": 2
}
