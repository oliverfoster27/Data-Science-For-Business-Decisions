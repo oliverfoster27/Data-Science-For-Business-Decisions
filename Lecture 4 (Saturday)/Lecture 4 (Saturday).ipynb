{
 "cells": [
  {
   "cell_type": "markdown",
   "metadata": {},
   "source": [
    "# Lecture 4 (Saturday)"
   ]
  },
  {
   "cell_type": "markdown",
   "metadata": {},
   "source": [
    "Taking this class (September 29th) instead of the October 6th lecture"
   ]
  },
  {
   "cell_type": "markdown",
   "metadata": {},
   "source": [
    "Intro to Tableau"
   ]
  },
  {
   "cell_type": "markdown",
   "metadata": {},
   "source": [
    "### Fouad's Lecture"
   ]
  },
  {
   "cell_type": "markdown",
   "metadata": {},
   "source": [
    "- Watch Ted Talk \"The Best Stats you will ever see\" Hans Rosling\n",
    "- Watch out for hiding information in averages...\n",
    "    - Sometimes what you choose to group by hides distributions within your averages\n",
    "- Storytelling is:\n",
    "    - Art\n",
    "    - History\n",
    "    - Creativity\n",
    "    - etc...\n",
    "- You should tell a story about yourself in an interview... in a resume...\n",
    "- 3 Levels Of Audiences:\n",
    "    - Executive\n",
    "    - Managerial\n",
    "    - Operational\n",
    "- You need to understand the business need for reporting\n",
    "    - If you can understand the business need you can get away with not understanding the domain so much\n",
    "- Tools:\n",
    "    - Power BI\n",
    "    \n",
    "Qualities of a good report/story:\n",
    "- Understanding Business Need\n",
    "- Data\n",
    "- Understanding Periodicity (how often do I need to procure this report?)\n",
    "- Understanding Source of data"
   ]
  },
  {
   "cell_type": "markdown",
   "metadata": {},
   "source": [
    "Lunch Break"
   ]
  },
  {
   "cell_type": "markdown",
   "metadata": {},
   "source": [
    "### Tableau\n",
    "\n",
    "- Public tableau is free in the cloud\n",
    "- Desktop is paid and local\n",
    "- Tableau can read pdf-txt documents into tables\n",
    "- Perform unions on tables that go over multiple pages\n",
    "- Joins vs Unions:\n",
    "    - Joins combines tables by putting columns next to eachother\n",
    "    - Unions combine tables by appending new rows\n",
    "- Discrete vs Continuous in Tableau:\n",
    "    - Discrete is like a category and continuous is like a feature in a regression\n",
    "    - You can change features from discrete to continuous in Tableau depending on how you want to see the data\n",
    "    - Tableau stories could replace powerpoint presentations"
   ]
  },
  {
   "cell_type": "markdown",
   "metadata": {},
   "source": []
  }
 ],
 "metadata": {
  "kernelspec": {
   "display_name": "Python 3",
   "language": "python",
   "name": "python3"
  },
  "language_info": {
   "codemirror_mode": {
    "name": "ipython",
    "version": 3
   },
   "file_extension": ".py",
   "mimetype": "text/x-python",
   "name": "python",
   "nbconvert_exporter": "python",
   "pygments_lexer": "ipython3",
   "version": "3.6.5"
  }
 },
 "nbformat": 4,
 "nbformat_minor": 2
}
