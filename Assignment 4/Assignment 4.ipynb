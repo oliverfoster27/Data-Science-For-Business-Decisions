{
 "cells": [
  {
   "cell_type": "code",
   "execution_count": 18,
   "metadata": {},
   "outputs": [],
   "source": [
    "import pandas as pd\n",
    "import numpy as np\n",
    "import matplotlib.pyplot as plt\n",
    "%matplotlib inline  "
   ]
  },
  {
   "cell_type": "code",
   "execution_count": 19,
   "metadata": {},
   "outputs": [],
   "source": [
    "df = pd.read_csv(r\"C:\\Users\\olive\\Documents\\GitHub\\Data-Science-For-Business-Decisions\\Assignment 4\\OD_2017-04.csv+ (Multiple Connections).csv\",encoding='utf-8')"
   ]
  },
  {
   "cell_type": "code",
   "execution_count": 20,
   "metadata": {},
   "outputs": [
    {
     "data": {
      "text/html": [
       "<div>\n",
       "<style scoped>\n",
       "    .dataframe tbody tr th:only-of-type {\n",
       "        vertical-align: middle;\n",
       "    }\n",
       "\n",
       "    .dataframe tbody tr th {\n",
       "        vertical-align: top;\n",
       "    }\n",
       "\n",
       "    .dataframe thead th {\n",
       "        text-align: right;\n",
       "    }\n",
       "</style>\n",
       "<table border=\"1\" class=\"dataframe\">\n",
       "  <thead>\n",
       "    <tr style=\"text-align: right;\">\n",
       "      <th></th>\n",
       "      <th>Count Limit</th>\n",
       "      <th>Ride Duration</th>\n",
       "      <th>Number of Records</th>\n",
       "      <th>Code</th>\n",
       "      <th>Duration Sec</th>\n",
       "      <th>End Station Code</th>\n",
       "      <th>Is Member</th>\n",
       "      <th>Latitude</th>\n",
       "      <th>Longitude</th>\n",
       "      <th>Start Station Code</th>\n",
       "    </tr>\n",
       "  </thead>\n",
       "  <tbody>\n",
       "    <tr>\n",
       "      <th>count</th>\n",
       "      <td>4740357.0</td>\n",
       "      <td>4.740357e+06</td>\n",
       "      <td>4740357.0</td>\n",
       "      <td>4.740357e+06</td>\n",
       "      <td>4.740357e+06</td>\n",
       "      <td>4.740357e+06</td>\n",
       "      <td>4.740357e+06</td>\n",
       "      <td>4.740357e+06</td>\n",
       "      <td>4.740357e+06</td>\n",
       "      <td>4.740357e+06</td>\n",
       "    </tr>\n",
       "    <tr>\n",
       "      <th>mean</th>\n",
       "      <td>1.0</td>\n",
       "      <td>9.474750e-03</td>\n",
       "      <td>1.0</td>\n",
       "      <td>6.325606e+03</td>\n",
       "      <td>8.181575e+02</td>\n",
       "      <td>6.320369e+03</td>\n",
       "      <td>8.110794e-01</td>\n",
       "      <td>4.551695e+01</td>\n",
       "      <td>-7.357925e+01</td>\n",
       "      <td>6.325606e+03</td>\n",
       "    </tr>\n",
       "    <tr>\n",
       "      <th>std</th>\n",
       "      <td>0.0</td>\n",
       "      <td>7.468440e-03</td>\n",
       "      <td>0.0</td>\n",
       "      <td>3.761087e+02</td>\n",
       "      <td>6.447420e+02</td>\n",
       "      <td>3.838790e+02</td>\n",
       "      <td>3.914456e-01</td>\n",
       "      <td>2.078102e-02</td>\n",
       "      <td>2.036524e-02</td>\n",
       "      <td>3.761087e+02</td>\n",
       "    </tr>\n",
       "    <tr>\n",
       "      <th>min</th>\n",
       "      <td>1.0</td>\n",
       "      <td>-3.888889e-02</td>\n",
       "      <td>1.0</td>\n",
       "      <td>5.002000e+03</td>\n",
       "      <td>6.100000e+01</td>\n",
       "      <td>5.002000e+03</td>\n",
       "      <td>0.000000e+00</td>\n",
       "      <td>4.543074e+01</td>\n",
       "      <td>-7.367011e+01</td>\n",
       "      <td>5.002000e+03</td>\n",
       "    </tr>\n",
       "    <tr>\n",
       "      <th>25%</th>\n",
       "      <td>1.0</td>\n",
       "      <td>4.166667e-03</td>\n",
       "      <td>1.0</td>\n",
       "      <td>6.107000e+03</td>\n",
       "      <td>3.720000e+02</td>\n",
       "      <td>6.092000e+03</td>\n",
       "      <td>1.000000e+00</td>\n",
       "      <td>4.550381e+01</td>\n",
       "      <td>-7.358911e+01</td>\n",
       "      <td>6.107000e+03</td>\n",
       "    </tr>\n",
       "    <tr>\n",
       "      <th>50%</th>\n",
       "      <td>1.0</td>\n",
       "      <td>7.638889e-03</td>\n",
       "      <td>1.0</td>\n",
       "      <td>6.204000e+03</td>\n",
       "      <td>6.510000e+02</td>\n",
       "      <td>6.196000e+03</td>\n",
       "      <td>1.000000e+00</td>\n",
       "      <td>4.551916e+01</td>\n",
       "      <td>-7.357610e+01</td>\n",
       "      <td>6.204000e+03</td>\n",
       "    </tr>\n",
       "    <tr>\n",
       "      <th>75%</th>\n",
       "      <td>1.0</td>\n",
       "      <td>1.250000e-02</td>\n",
       "      <td>1.0</td>\n",
       "      <td>6.388000e+03</td>\n",
       "      <td>1.093000e+03</td>\n",
       "      <td>6.394000e+03</td>\n",
       "      <td>1.000000e+00</td>\n",
       "      <td>4.553092e+01</td>\n",
       "      <td>-7.356545e+01</td>\n",
       "      <td>6.388000e+03</td>\n",
       "    </tr>\n",
       "    <tr>\n",
       "      <th>max</th>\n",
       "      <td>1.0</td>\n",
       "      <td>8.333333e-02</td>\n",
       "      <td>1.0</td>\n",
       "      <td>1.000200e+04</td>\n",
       "      <td>7.199000e+03</td>\n",
       "      <td>1.000200e+04</td>\n",
       "      <td>1.000000e+00</td>\n",
       "      <td>4.558276e+01</td>\n",
       "      <td>-7.349507e+01</td>\n",
       "      <td>1.000200e+04</td>\n",
       "    </tr>\n",
       "  </tbody>\n",
       "</table>\n",
       "</div>"
      ],
      "text/plain": [
       "       Count Limit  Ride Duration  Number of Records          Code  \\\n",
       "count    4740357.0   4.740357e+06          4740357.0  4.740357e+06   \n",
       "mean           1.0   9.474750e-03                1.0  6.325606e+03   \n",
       "std            0.0   7.468440e-03                0.0  3.761087e+02   \n",
       "min            1.0  -3.888889e-02                1.0  5.002000e+03   \n",
       "25%            1.0   4.166667e-03                1.0  6.107000e+03   \n",
       "50%            1.0   7.638889e-03                1.0  6.204000e+03   \n",
       "75%            1.0   1.250000e-02                1.0  6.388000e+03   \n",
       "max            1.0   8.333333e-02                1.0  1.000200e+04   \n",
       "\n",
       "       Duration Sec  End Station Code     Is Member      Latitude  \\\n",
       "count  4.740357e+06      4.740357e+06  4.740357e+06  4.740357e+06   \n",
       "mean   8.181575e+02      6.320369e+03  8.110794e-01  4.551695e+01   \n",
       "std    6.447420e+02      3.838790e+02  3.914456e-01  2.078102e-02   \n",
       "min    6.100000e+01      5.002000e+03  0.000000e+00  4.543074e+01   \n",
       "25%    3.720000e+02      6.092000e+03  1.000000e+00  4.550381e+01   \n",
       "50%    6.510000e+02      6.196000e+03  1.000000e+00  4.551916e+01   \n",
       "75%    1.093000e+03      6.394000e+03  1.000000e+00  4.553092e+01   \n",
       "max    7.199000e+03      1.000200e+04  1.000000e+00  4.558276e+01   \n",
       "\n",
       "          Longitude  Start Station Code  \n",
       "count  4.740357e+06        4.740357e+06  \n",
       "mean  -7.357925e+01        6.325606e+03  \n",
       "std    2.036524e-02        3.761087e+02  \n",
       "min   -7.367011e+01        5.002000e+03  \n",
       "25%   -7.358911e+01        6.107000e+03  \n",
       "50%   -7.357610e+01        6.204000e+03  \n",
       "75%   -7.356545e+01        6.388000e+03  \n",
       "max   -7.349507e+01        1.000200e+04  "
      ]
     },
     "execution_count": 20,
     "metadata": {},
     "output_type": "execute_result"
    }
   ],
   "source": [
    "df.describe()"
   ]
  },
  {
   "cell_type": "code",
   "execution_count": 21,
   "metadata": {},
   "outputs": [
    {
     "data": {
      "text/plain": [
       "81.10794187020092"
      ]
     },
     "execution_count": 21,
     "metadata": {},
     "output_type": "execute_result"
    }
   ],
   "source": [
    "df['Is Member'].sum()/(len(df))*100"
   ]
  },
  {
   "cell_type": "code",
   "execution_count": 22,
   "metadata": {},
   "outputs": [
    {
     "data": {
      "text/plain": [
       "818.1574830756417"
      ]
     },
     "execution_count": 22,
     "metadata": {},
     "output_type": "execute_result"
    }
   ],
   "source": [
    "df['Duration Sec'].mean()"
   ]
  },
  {
   "cell_type": "code",
   "execution_count": 23,
   "metadata": {},
   "outputs": [
    {
     "name": "stdout",
     "output_type": "stream",
     "text": [
      "                     Station  Bikes Gained\n",
      "0          Milton / Durocher          1559\n",
      "1   St-André / Ste-Catherine          2809\n",
      "2         St-André / Ontario          2548\n",
      "3  Metcalfe / de Maisonneuve         -1288\n",
      "4           Guy / Notre-Dame          1840\n"
     ]
    }
   ],
   "source": [
    "station_names = []\n",
    "bikes_left = []\n",
    "bikes_back = []\n",
    "bikes_gain = []\n",
    "for i in df['Start Station Code'].unique():\n",
    "    bikes_left.append(len(df[df['Start Station Code']==i]))\n",
    "    bikes_back.append(len(df[df['End Station Code']==i]))\n",
    "    bikes_gain.append(len(df[df['End Station Code']==i]) - len(df[df['Start Station Code']==i]))\n",
    "    station_names.append(df[df['Start Station Code']==i]['Name'].tolist()[0])\n",
    "result = pd.DataFrame({'Station':station_names, 'Bikes Gained':bikes_gain})\n",
    "print(result.head())"
   ]
  },
  {
   "cell_type": "code",
   "execution_count": 29,
   "metadata": {},
   "outputs": [],
   "source": [
    "result = result.sort_values(['Bikes Gained'], ascending=[0])"
   ]
  },
  {
   "cell_type": "code",
   "execution_count": 37,
   "metadata": {},
   "outputs": [
    {
     "data": {
      "text/plain": [
       "<matplotlib.axes._subplots.AxesSubplot at 0x2508c6af5c0>"
      ]
     },
     "execution_count": 37,
     "metadata": {},
     "output_type": "execute_result"
    },
    {
     "data": {
      "image/png": "[encoded data removed]",
      "text/plain": [
       "<Figure size 432x288 with 1 Axes>"
      ]
     },
     "metadata": {},
     "output_type": "display_data"
    }
   ],
   "source": [
    "result.iloc[np.r_[0:5, -5:0]].plot.bar(y='Bikes Gained', x='Station', title='Bikes Gained by Station', legend=False)"
   ]
  },
  {
   "cell_type": "code",
   "execution_count": null,
   "metadata": {},
   "outputs": [],
   "source": []
  }
 ],
 "metadata": {
  "kernelspec": {
   "display_name": "Python 3",
   "language": "python",
   "name": "python3"
  },
  "language_info": {
   "codemirror_mode": {
    "name": "ipython",
    "version": 3
   },
   "file_extension": ".py",
   "mimetype": "text/x-python",
   "name": "python",
   "nbconvert_exporter": "python",
   "pygments_lexer": "ipython3",
   "version": "3.6.5"
  }
 },
 "nbformat": 4,
 "nbformat_minor": 2
}
