{
 "cells": [
  {
   "cell_type": "markdown",
   "metadata": {},
   "source": [
    "# Lecture 5"
   ]
  },
  {
   "cell_type": "markdown",
   "metadata": {},
   "source": [
    "Lecture by Naim Alexandre Antaki (AI & Law)"
   ]
  },
  {
   "cell_type": "markdown",
   "metadata": {},
   "source": [
    "- Where does the law stand on AI?\n",
    "- Apply principles to technological law\n",
    "    - This way the changing tech will always have to adhere\n",
    "    - You can't be specific or else it will fall out of relevance with changing data\n",
    "- Law should not be about simple compliance\n",
    "- Right to be Forgotten\n",
    "    - Requires entities to have strong data governance\n",
    "    - Opt-in opt-out: should you be able to pick what they are forgetting? or all-or-nothing?\n",
    "- Blockchain can be used in smart contracts\n",
    "- Be careful dealing with PHDs/Researchers\n",
    "    - They publish or perish - but if they publish you perish (divulging company secrets)"
   ]
  },
  {
   "cell_type": "markdown",
   "metadata": {},
   "source": [
    "Lecture by Martin-Guy Richerd (Story of Data @Montreal BI)"
   ]
  },
  {
   "cell_type": "markdown",
   "metadata": {},
   "source": [
    "- 2.5 years old at the city of montreal\n",
    "- 2015 created Montreal's Open Data Policy & Montreals Directive on Data Governance\n",
    "- Will not open all data\n",
    "    - Will not show personal information\n",
    "    - Protect public safety and protection of property\n",
    "    - etc...\n",
    "- 1000 datasets\n",
    "- They use click sense (competitor to power BI and tableau)\n",
    "- They went 100% open-source for the tools (except windows)\n",
    "- 90% of data warehouse projects fail - they didn't go with it\n",
    "- MTL Trajet\n",
    "    - App that tracks all your movements in MTL and gives city the data\n",
    "    - They benefit from the data\n",
    "- Using datascience to predict where house fires are\n",
    "- Predicting accidents\n",
    "- Cleaning archive pictures of the city\n",
    "- Classifying old photos as locations/points of reference\n",
    "- Predict where accidents will happen based on the percipitation in the area"
   ]
  },
  {
   "cell_type": "markdown",
   "metadata": {},
   "source": [
    "Book: The Big Data MBA"
   ]
  },
  {
   "cell_type": "markdown",
   "metadata": {},
   "source": [
    "Book: The Field Guide to Data Science"
   ]
  },
  {
   "cell_type": "markdown",
   "metadata": {},
   "source": [
    "LEARN ALTERYX"
   ]
  },
  {
   "cell_type": "code",
   "execution_count": null,
   "metadata": {},
   "outputs": [],
   "source": []
  }
 ],
 "metadata": {
  "kernelspec": {
   "display_name": "Python 3",
   "language": "python",
   "name": "python3"
  },
  "language_info": {
   "codemirror_mode": {
    "name": "ipython",
    "version": 3
   },
   "file_extension": ".py",
   "mimetype": "text/x-python",
   "name": "python",
   "nbconvert_exporter": "python",
   "pygments_lexer": "ipython3",
   "version": "3.6.5"
  }
 },
 "nbformat": 4,
 "nbformat_minor": 2
}
