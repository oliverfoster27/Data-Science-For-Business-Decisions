{
 "cells": [
  {
   "cell_type": "markdown",
   "metadata": {},
   "source": [
    "# Lecture 1"
   ]
  },
  {
   "cell_type": "markdown",
   "metadata": {},
   "source": [
    "September 13th, 2018"
   ]
  },
  {
   "cell_type": "markdown",
   "metadata": {},
   "source": [
    "Information can be found on LMS for course content: https://mycourses.scs.mcgill.ca/d2l/home"
   ]
  },
  {
   "cell_type": "markdown",
   "metadata": {},
   "source": [
    "Tools:\n",
    "- Analytics: Alteryx\n",
    "- Visualization: Tableau"
   ]
  },
  {
   "cell_type": "markdown",
   "metadata": {},
   "source": [
    "#### Notes"
   ]
  },
  {
   "cell_type": "markdown",
   "metadata": {},
   "source": [
    "- For computer labs - go to Computer Lab 1285 in CS Building\n",
    "- Submit learning journal every week. This is NOT a summation of the class contents - but a reflection on the material/idea you have based on the content\n",
    "- Submit a survey (see course manual)\n",
    "- Get on Twitter\n",
    "- CAP Certification\n",
    "    - www.certifiedanalytics.org\n",
    "    - Need 3-5ish years work experience\n",
    "    - New area.. this is the best general cert but still not a lot of market demand\n",
    "- Book: Field Guide to Data Science (on reading list)\n",
    "- Tradecraft: the process, tools and technologies for humans and computers to work together to transform data into insights\n",
    "- Follow on Twitter: Kirk D Borne (@kirkdborne)\n",
    "- 4 Vs of Big Data: Volume, Variety, Velocity, Veracity\n",
    "- Book: \"Scale\" by Geoffrey West\n",
    "- Book: The Fourth Paradigm"
   ]
  },
  {
   "cell_type": "markdown",
   "metadata": {},
   "source": []
  },
  {
   "cell_type": "markdown",
   "metadata": {},
   "source": []
  },
  {
   "cell_type": "markdown",
   "metadata": {},
   "source": []
  },
  {
   "cell_type": "markdown",
   "metadata": {},
   "source": []
  },
  {
   "cell_type": "markdown",
   "metadata": {},
   "source": []
  },
  {
   "cell_type": "markdown",
   "metadata": {},
   "source": []
  }
 ],
 "metadata": {
  "kernelspec": {
   "display_name": "Python 3",
   "language": "python",
   "name": "python3"
  },
  "language_info": {
   "codemirror_mode": {
    "name": "ipython",
    "version": 3
   },
   "file_extension": ".py",
   "mimetype": "text/x-python",
   "name": "python",
   "nbconvert_exporter": "python",
   "pygments_lexer": "ipython3",
   "version": "3.6.5"
  }
 },
 "nbformat": 4,
 "nbformat_minor": 2
}
