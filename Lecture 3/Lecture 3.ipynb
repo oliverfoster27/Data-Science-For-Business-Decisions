{
 "cells": [
  {
   "cell_type": "markdown",
   "metadata": {},
   "source": [
    "# Lecture 3"
   ]
  },
  {
   "cell_type": "markdown",
   "metadata": {},
   "source": [
    "### Deepmind/Google Presentation"
   ]
  },
  {
   "cell_type": "markdown",
   "metadata": {},
   "source": [
    "- Shivil(?)\n",
    "- ML and how it's applied in the real world\n",
    "- Feedback from users is important\n",
    "- Define the problem\n",
    "    - What are we trying to improve?\n",
    "    - What is the current performance?\n",
    "    - Data sources\n",
    "    - Success measures\n",
    "    - Why are we doing this?\n",
    "- Separate data into train/VALIDATION - the test data doesn't come from the same dataset\n",
    "- Validate overfitting: error on training vs error on test"
   ]
  },
  {
   "cell_type": "markdown",
   "metadata": {},
   "source": [
    "### General Lecture"
   ]
  },
  {
   "cell_type": "markdown",
   "metadata": {},
   "source": [
    "Sept 29th lecture is a replacement to the thanksgiving lecture"
   ]
  },
  {
   "cell_type": "markdown",
   "metadata": {},
   "source": [
    "- Everyone blames everyone else for problems where multiple teams need to coordinate\n",
    "- Hard to test google translate - even the translators use the tool\n",
    "    - Similar to testing the result pornography has on the brain of men - hard to find a control group\n",
    "- More data vs less privacy\n",
    "- Speed vs Accuracy\n",
    "- Human in the loop systems... Google is trying to remove them...\n",
    "    - Answer: they have the processing power for computers to take them on so why slow it down... I'm skeptical...\n",
    "- Statistics is not a natural instinct of humans... it has taken a long time to be learned\n",
    "    - Book: Against the Gods\n",
    "    - Book: Black Swan\n",
    "    - Book: Weapons of Math Destruction (social implications of algorithms)\n",
    "- Statistics\n",
    "    - Who produced these statistics? (the maker)\n",
    "    - How were they produced? (the method)\n",
    "    - Who is presenting them to me and why? (motive)\n",
    "- Algorithms and Models\n",
    "    - Who designed the model?\n",
    "    - What the person or the company is trying to accomplish"
   ]
  },
  {
   "cell_type": "markdown",
   "metadata": {},
   "source": [
    "Assignment #2: take an article and attack the premise of it"
   ]
  },
  {
   "cell_type": "markdown",
   "metadata": {},
   "source": []
  }
 ],
 "metadata": {
  "kernelspec": {
   "display_name": "Python 3",
   "language": "python",
   "name": "python3"
  },
  "language_info": {
   "codemirror_mode": {
    "name": "ipython",
    "version": 3
   },
   "file_extension": ".py",
   "mimetype": "text/x-python",
   "name": "python",
   "nbconvert_exporter": "python",
   "pygments_lexer": "ipython3",
   "version": "3.6.5"
  }
 },
 "nbformat": 4,
 "nbformat_minor": 2
}
